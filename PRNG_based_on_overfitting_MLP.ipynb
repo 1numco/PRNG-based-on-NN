{
  "nbformat": 4,
  "nbformat_minor": 0,
  "metadata": {
    "colab": {
      "name": "Untitled3.ipynb",
      "provenance": [],
      "collapsed_sections": []
    },
    "kernelspec": {
      "name": "python3",
      "display_name": "Python 3",
      "language": "python"
    }
  },
  "cells": [
    {
      "cell_type": "code",
      "metadata": {
        "id": "n6oAbjqMPDEh",
        "colab": {
          "base_uri": "https://localhost:8080/"
        },
        "outputId": "81ff661a-a261-45b3-bfee-520007f173e0"
      },
      "source": [
        "import random\n",
        "import torch\n",
        "from tqdm import tqdm\n",
        "\n",
        "\n",
        "class DynamicNet(torch.nn.Module):\n",
        "  def __init__(self, input_size, hidden_size, output_size):\n",
        "    super(DynamicNet, self).__init__()\n",
        "    self.fc1 = torch.nn.Linear(input_size, hidden_size)\n",
        "    self.activ1 = torch.nn.ReLU()\n",
        "    self.fc2 = torch.nn.Linear(hidden_size, hidden_size)\n",
        "    self.activ2 = torch.nn.ReLU()\n",
        "    self.fc3 = torch.nn.Linear(hidden_size, output_size)\n",
        "\n",
        "  def forward(self, x):\n",
        "    x = self.fc1(x)\n",
        "    x = self.activ1(x)\n",
        "    x = self.fc2(x)\n",
        "    x = self.activ2(x)\n",
        "    x = self.fc3(x)\n",
        "    return x\n",
        "\n",
        "\n",
        "# N is batch size; D_in is input dimension;\n",
        "# H is hidden dimension; D_out is output dimension.\n",
        "N, D_in, H, D_out = 100, 4, 20, 1\n",
        "\n",
        "# Create random Tensors to hold inputs and outputs\n",
        "x = torch.rand(N, D_in)*2 - 1\n",
        "y = torch.rand(N, D_out)*2 - 1\n",
        "\n",
        "# Construct our model by instantiating the class defined above\n",
        "model = DynamicNet(D_in, H, D_out)\n",
        "model.train()\n",
        "# Construct our loss function and an Optimizer. Training this strange model with\n",
        "# vanilla stochastic gradient descent is tough, so we use momentum\n",
        "criterion = torch.nn.MSELoss(reduction='sum')\n",
        "optimizer = torch.optim.SGD(model.parameters(), lr=1e-4, momentum=0.9)\n",
        "for t in range(50000):\n",
        "    # Forward pass: Compute predicted y by passing x to the model\n",
        "    y_pred = model(x)\n",
        "\n",
        "    # Compute and print loss\n",
        "    loss = criterion(y_pred, y)\n",
        "    if t % 1000 == 99:\n",
        "        print(t, loss.item())\n",
        "\n",
        "    # Zero gradients, perform a backward pass, and update the weights.\n",
        "    optimizer.zero_grad()\n",
        "    loss.backward()\n",
        "    optimizer.step()"
      ],
      "execution_count": 13,
      "outputs": [
        {
          "output_type": "stream",
          "name": "stdout",
          "text": [
            "99 28.78569221496582\n",
            "1099 12.916375160217285\n",
            "2099 4.167008876800537\n",
            "3099 1.3895654678344727\n",
            "4099 0.435881108045578\n",
            "5099 0.2109106183052063\n",
            "6099 0.11253813654184341\n",
            "7099 0.06334838271141052\n",
            "8099 0.035869210958480835\n",
            "9099 0.020667608827352524\n",
            "10099 0.011898571625351906\n",
            "11099 0.00690759951248765\n",
            "12099 0.0041022347286343575\n",
            "13099 0.0024592254776507616\n",
            "14099 0.0014823294477537274\n",
            "15099 0.0008906321018002927\n",
            "16099 0.0005338480696082115\n",
            "17099 0.00032084499252960086\n",
            "18099 0.00019133079331368208\n",
            "19099 0.00011423599062254652\n",
            "20099 6.835364183643833e-05\n",
            "21099 4.0606049878988415e-05\n",
            "22099 2.4192628188757226e-05\n",
            "23099 1.4446301975112874e-05\n",
            "24099 8.477663868688978e-06\n",
            "25099 5.048070761404233e-06\n",
            "26099 3.001139020852861e-06\n",
            "27099 1.7674078662821557e-06\n",
            "28099 1.0442764732943033e-06\n",
            "29099 6.215636858541984e-07\n",
            "30099 3.7959972587486845e-07\n",
            "31099 2.3200445298243721e-07\n",
            "32099 1.4903210399097588e-07\n",
            "33099 1.0181212672932816e-07\n",
            "34099 7.425991555010114e-08\n",
            "35099 5.657076940224215e-08\n",
            "36099 4.445885792847548e-08\n",
            "37099 3.5723907387819054e-08\n",
            "38099 2.941391485933309e-08\n",
            "39099 2.4529006381612817e-08\n",
            "40099 2.1123408799894605e-08\n",
            "41099 1.879341304800164e-08\n",
            "42099 1.6424529292180523e-08\n",
            "43099 1.4705833883965624e-08\n",
            "44099 1.3313159463734792e-08\n",
            "45099 1.2240461089163546e-08\n",
            "46099 1.135100813343115e-08\n",
            "47099 1.041137043245044e-08\n",
            "48099 9.690218405467022e-09\n",
            "49099 9.109485610281354e-09\n"
          ]
        }
      ]
    },
    {
      "cell_type": "code",
      "metadata": {
        "id": "7qPhVwICQcpJ",
        "colab": {
          "base_uri": "https://localhost:8080/"
        },
        "outputId": "80941e6c-2175-4d6a-b48e-0589da80b3f9"
      },
      "source": [
        "model.eval()\n",
        "x_test = torch.randn(100, 4)\n",
        "y_test = model(x_test)\n",
        "print(list([1 if i > 0 else 0 for i in y_test.squeeze()]))"
      ],
      "execution_count": 14,
      "outputs": [
        {
          "output_type": "stream",
          "name": "stdout",
          "text": [
            "[1, 1, 0, 0, 0, 1, 1, 1, 1, 1, 0, 1, 0, 0, 0, 1, 0, 0, 0, 1, 1, 1, 1, 1, 1, 0, 0, 1, 0, 1, 0, 1, 1, 1, 1, 1, 1, 1, 0, 1, 1, 1, 0, 1, 0, 0, 0, 0, 0, 1, 1, 1, 0, 0, 1, 0, 0, 1, 1, 1, 0, 1, 0, 0, 0, 1, 0, 1, 1, 1, 1, 1, 1, 1, 1, 0, 0, 1, 0, 0, 1, 0, 1, 0, 1, 1, 1, 1, 1, 1, 0, 1, 1, 1, 1, 1, 1, 0, 0, 0]\n"
          ]
        }
      ]
    },
    {
      "cell_type": "code",
      "metadata": {
        "id": "Tb6Pyq_PP86l"
      },
      "source": [
        "import numpy as np\n",
        "size = 5000\n",
        "samples = []\n",
        "key_size = 32\n",
        "tail = key_size % 3\n",
        "frequency = []\n",
        "k = 101\n",
        "for i in range(k):\n",
        "  frequency.append(0)\n",
        "etalonFreq = 1 / k\n",
        "etalonNum = size / k\n",
        "for i in range(size):\n",
        "  samples.append(0)\n",
        "  x_test = torch.randn(100, 4)\n",
        "  y_test = list([i.item() for i in model(x_test).squeeze()])\n",
        "  y_test = list([(int)(i * 10000000) % 10  for i in y_test if (int)(i * 10000000) % 10 < 8])\n",
        "# print(y_test, len(y_test))\n",
        "  for j in range(0, key_size//3):\n",
        "    samples[i] = (samples[i] << 3) | y_test[j]\n",
        "  samples[i] = (samples[i] << tail) | (y_test[key_size] & (2**tail - 1))\n",
        "  samples[i] = samples[i] / (2**key_size)\n",
        "  frequency[(int)(samples[i] // etalonFreq)] += 1;\n",
        "  # print(samples[i], (int)(samples[i] // etalonFreq))\n"
      ],
      "execution_count": 15,
      "outputs": []
    },
    {
      "cell_type": "code",
      "metadata": {
        "id": "o8-5RgvbPUY0",
        "colab": {
          "base_uri": "https://localhost:8080/"
        },
        "outputId": "1516c4d3-1460-4df4-c4c6-71fa5a1787ae"
      },
      "source": [
        "\n",
        "\n",
        "hi = 0\n",
        "for i in range(k):\n",
        "  hi += (frequency[i] - etalonNum)**2;\n",
        "hi *= 1 / etalonNum;\n",
        "print(hi)"
      ],
      "execution_count": 16,
      "outputs": [
        {
          "output_type": "stream",
          "name": "stdout",
          "text": [
            "79.89599999999999\n"
          ]
        }
      ]
    },
    {
      "cell_type": "code",
      "metadata": {
        "id": "bBquBygtkiBV",
        "colab": {
          "base_uri": "https://localhost:8080/",
          "height": 269
        },
        "outputId": "c82e5124-14b4-422a-ee7b-c053caf9f09c"
      },
      "source": [
        "import matplotlib.pyplot as plt\n",
        "plt.plot(frequency)\n",
        "plt.yticks(np.arange(0,75,5))\n",
        "plt.grid()\n",
        "plt.show()"
      ],
      "execution_count": 17,
      "outputs": [
        {
          "output_type": "display_data",
          "data": {
            "text/plain": "<Figure size 432x288 with 1 Axes>",
            "image/png": "[encoded data removed]"
          },
          "metadata": {
            "needs_background": "light"
          }
        }
      ]
    },
    {
      "cell_type": "code",
      "metadata": {
        "id": "TPwQKFbawcGi",
        "colab": {
          "base_uri": "https://localhost:8080/"
        },
        "outputId": "8d177c04-6982-49dd-a152-c53cac5a5e03"
      },
      "source": [
        "print(np.mean(frequency))"
      ],
      "execution_count": 18,
      "outputs": [
        {
          "output_type": "stream",
          "name": "stdout",
          "text": [
            "49.504950495049506\n"
          ]
        }
      ]
    },
    {
      "cell_type": "code",
      "metadata": {
        "id": "WjRlT_YkxA4k",
        "colab": {
          "base_uri": "https://localhost:8080/"
        },
        "outputId": "5e98ee3e-f40d-4400-d91f-1f697f45463d"
      },
      "source": [
        "print(np.mean(samples))"
      ],
      "execution_count": 19,
      "outputs": [
        {
          "output_type": "stream",
          "name": "stdout",
          "text": [
            "0.4929196330538485\n"
          ]
        }
      ]
    },
    {
      "cell_type": "code",
      "metadata": {
        "id": "c4r_WJ_lRA-v",
        "colab": {
          "base_uri": "https://localhost:8080/"
        },
        "outputId": "bf6c3137-6454-4736-92b3-c9c400d6a9bf"
      },
      "source": [
        "print(np.std(samples)**2)"
      ],
      "execution_count": 20,
      "outputs": [
        {
          "output_type": "stream",
          "name": "stdout",
          "text": [
            "0.08326980499512915\n"
          ]
        }
      ]
    },
    {
      "cell_type": "code",
      "metadata": {
        "id": "YobKM3XsREBo"
      },
      "source": [
        "with open('generated_samples_3.bin', 'wb') as fout:\n",
        "    size = 10000000\n",
        "    sample = 0\n",
        "    key_size = 32\n",
        "    tail = key_size % 3\n",
        "    for i in tqdm(range(size)):\n",
        "        sample = 0\n",
        "        x_test = torch.randn(30, 4)\n",
        "        y_test = list([i.item() for i in model(x_test).squeeze()])\n",
        "        y_test = list([(int)(i * 10000000) % 10  for i in y_test if (int)(i * 10000000) % 10 < 8])\n",
        "        for j in range(0, key_size//3):\n",
        "            sample = (sample << 3) | y_test[j]\n",
        "        sample = (sample << tail) | (y_test[len(y_test) - 1] & (2**tail - 1))\n",
        "        fout.write(sample.to_bytes(4, byteorder='big', signed=False))"
      ],
      "execution_count": 82,
      "outputs": [
        {
          "output_type": "stream",
          "name": "stderr",
          "text": [
            "100%|██████████| 10000000/10000000 [1:23:02<00:00, 2007.08it/s]\n"
          ]
        }
      ]
    }
  ]
}