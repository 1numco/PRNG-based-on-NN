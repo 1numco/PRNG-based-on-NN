{
  "nbformat": 4,
  "nbformat_minor": 0,
  "metadata": {
    "colab": {
      "name": "Untitled3.ipynb",
      "provenance": [],
      "collapsed_sections": []
    },
    "kernelspec": {
      "name": "python3",
      "display_name": "Python 3"
    }
  },
  "cells": [
    {
      "cell_type": "code",
      "metadata": {
        "id": "n6oAbjqMPDEh",
        "colab": {
          "base_uri": "https://localhost:8080/"
        },
        "outputId": "81ff661a-a261-45b3-bfee-520007f173e0"
      },
      "source": [
        "import random\n",
        "import torch\n",
        "\n",
        "\n",
        "class DynamicNet(torch.nn.Module):\n",
        "  def __init__(self, input_size, hidden_size, output_size):\n",
        "    super(DynamicNet, self).__init__()\n",
        "    self.fc1 = torch.nn.Linear(input_size, hidden_size)\n",
        "    self.activ1 = torch.nn.ReLU()\n",
        "    self.fc2 = torch.nn.Linear(hidden_size, hidden_size)\n",
        "    self.activ2 = torch.nn.ReLU()\n",
        "    self.fc3 = torch.nn.Linear(hidden_size, output_size)\n",
        "\n",
        "  def forward(self, x):\n",
        "    x = self.fc1(x)\n",
        "    x = self.activ1(x)\n",
        "    x = self.fc2(x)\n",
        "    x = self.activ2(x)\n",
        "    x = self.fc3(x)\n",
        "    return x\n",
        "\n",
        "\n",
        "# N is batch size; D_in is input dimension;\n",
        "# H is hidden dimension; D_out is output dimension.\n",
        "N, D_in, H, D_out = 100, 4, 20, 1\n",
        "\n",
        "# Create random Tensors to hold inputs and outputs\n",
        "x = torch.rand(N, D_in)*2 - 1\n",
        "y = torch.rand(N, D_out)*2 - 1\n",
        "\n",
        "# Construct our model by instantiating the class defined above\n",
        "model = DynamicNet(D_in, H, D_out)\n",
        "model.train()\n",
        "# Construct our loss function and an Optimizer. Training this strange model with\n",
        "# vanilla stochastic gradient descent is tough, so we use momentum\n",
        "criterion = torch.nn.MSELoss(reduction='sum')\n",
        "optimizer = torch.optim.SGD(model.parameters(), lr=1e-4, momentum=0.9)\n",
        "for t in range(50000):\n",
        "    # Forward pass: Compute predicted y by passing x to the model\n",
        "    y_pred = model(x)\n",
        "\n",
        "    # Compute and print loss\n",
        "    loss = criterion(y_pred, y)\n",
        "    if t % 1000 == 99:\n",
        "        print(t, loss.item())\n",
        "\n",
        "    # Zero gradients, perform a backward pass, and update the weights.\n",
        "    optimizer.zero_grad()\n",
        "    loss.backward()\n",
        "    optimizer.step()"
      ],
      "execution_count": null,
      "outputs": [
        {
          "output_type": "stream",
          "text": [
            "99 24.96439552307129\n",
            "1099 16.380176544189453\n",
            "2099 7.693582057952881\n",
            "3099 3.3774001598358154\n",
            "4099 1.1165878772735596\n",
            "5099 0.478726327419281\n",
            "6099 0.29525336623191833\n",
            "7099 0.13105274736881256\n",
            "8099 0.2545658349990845\n",
            "9099 0.0561399906873703\n",
            "10099 0.3505863547325134\n",
            "11099 0.04743776470422745\n",
            "12099 0.020679103210568428\n",
            "13099 0.05721518397331238\n",
            "14099 0.031359754502773285\n",
            "15099 0.1467076539993286\n",
            "16099 0.04939378798007965\n",
            "17099 0.003926508128643036\n",
            "18099 0.018337039276957512\n",
            "19099 0.05546842887997627\n",
            "20099 0.005841516889631748\n",
            "21099 0.0019131478620693088\n",
            "22099 0.03393135964870453\n",
            "23099 0.0015718098729848862\n",
            "24099 0.0028873449191451073\n",
            "25099 0.002199036069214344\n",
            "26099 0.0003247046552132815\n",
            "27099 0.0021567787043750286\n",
            "28099 0.001965985633432865\n",
            "29099 0.00022823958715889603\n",
            "30099 0.0002949252666439861\n",
            "31099 7.709933561272919e-05\n",
            "32099 5.820680962642655e-05\n",
            "33099 3.996855957666412e-05\n",
            "34099 0.00015583487402182072\n",
            "35099 6.494151602964848e-05\n",
            "36099 3.283657133579254e-05\n",
            "37099 1.5049105059006251e-05\n",
            "38099 3.900301635439973e-06\n",
            "39099 3.0851178962620907e-06\n",
            "40099 3.055244633287657e-06\n",
            "41099 7.699507591496513e-07\n",
            "42099 1.6256268509096117e-06\n",
            "43099 2.0761267478519585e-06\n",
            "44099 1.7861960799336885e-08\n",
            "45099 7.061778273254049e-09\n",
            "46099 3.747018695321458e-09\n",
            "47099 2.9503905984995527e-09\n",
            "48099 2.644858998479549e-09\n",
            "49099 1.2127520676585846e-07\n"
          ],
          "name": "stdout"
        }
      ]
    },
    {
      "cell_type": "code",
      "metadata": {
        "id": "7qPhVwICQcpJ",
        "colab": {
          "base_uri": "https://localhost:8080/"
        },
        "outputId": "80941e6c-2175-4d6a-b48e-0589da80b3f9"
      },
      "source": [
        "model.eval()\n",
        "x_test = torch.randn(100, 4)\n",
        "y_test = model(x_test)\n",
        "print(list([1 if i > 0 else 0 for i in y_test.squeeze()]))"
      ],
      "execution_count": null,
      "outputs": [
        {
          "output_type": "stream",
          "text": [
            "[0, 0, 0, 0, 1, 0, 0, 1, 1, 1, 0, 0, 1, 1, 0, 1, 1, 0, 0, 0, 0, 1, 0, 1, 1, 1, 0, 1, 0, 1, 0, 0, 1, 1, 0, 0, 0, 1, 0, 0, 0, 1, 1, 1, 1, 1, 1, 1, 0, 0, 1, 0, 0, 0, 0, 1, 1, 1, 1, 1, 1, 1, 0, 0, 1, 0, 1, 0, 1, 1, 0, 1, 1, 1, 0, 1, 1, 0, 0, 0, 1, 1, 0, 1, 0, 1, 1, 0, 1, 1, 0, 0, 1, 1, 1, 0, 1, 1, 0, 0]\n"
          ],
          "name": "stdout"
        }
      ]
    },
    {
      "cell_type": "code",
      "metadata": {
        "id": "Tb6Pyq_PP86l"
      },
      "source": [
        "import numpy as np\n",
        "size = 5000\n",
        "samples = []\n",
        "key_size = 32\n",
        "tail = key_size % 3\n",
        "frequency = []\n",
        "k = 101\n",
        "for i in range(k):\n",
        "  frequency.append(0)\n",
        "etalonFreq = 1 / k\n",
        "etalonNum = size / k\n",
        "for i in range(size):\n",
        "  samples.append(0)\n",
        "  x_test = torch.randn(100, 4)\n",
        "  y_test = list([i.item() for i in model(x_test).squeeze()])\n",
        "  y_test = list([(int)(i * 10000000) % 10  for i in y_test if (int)(i * 10000000) % 10 < 8])\n",
        "# print(y_test, len(y_test))\n",
        "  for j in range(0, key_size//3):\n",
        "    samples[i] = (samples[i] << 3) | y_test[j]\n",
        "  samples[i] = (samples[i] << tail) | (y_test[key_size] & (2**tail - 1))\n",
        "  samples[i] = samples[i] / (2**key_size)\n",
        "  frequency[(int)(samples[i] // etalonFreq)] += 1;\n",
        "  # print(samples[i], (int)(samples[i] // etalonFreq))\n"
      ],
      "execution_count": null,
      "outputs": []
    },
    {
      "cell_type": "code",
      "metadata": {
        "id": "o8-5RgvbPUY0",
        "colab": {
          "base_uri": "https://localhost:8080/"
        },
        "outputId": "1516c4d3-1460-4df4-c4c6-71fa5a1787ae"
      },
      "source": [
        "\n",
        "\n",
        "hi = 0\n",
        "for i in range(k):\n",
        "  hi += (frequency[i] - etalonNum)**2;\n",
        "hi *= 1 / etalonNum;\n",
        "print(hi)"
      ],
      "execution_count": null,
      "outputs": [
        {
          "output_type": "stream",
          "text": [
            "92.09679999999997\n"
          ],
          "name": "stdout"
        }
      ]
    },
    {
      "cell_type": "code",
      "metadata": {
        "id": "bBquBygtkiBV",
        "colab": {
          "base_uri": "https://localhost:8080/",
          "height": 269
        },
        "outputId": "c82e5124-14b4-422a-ee7b-c053caf9f09c"
      },
      "source": [
        "import matplotlib.pyplot as plt\n",
        "plt.plot(frequency)\n",
        "plt.yticks(np.arange(0,75,5))\n",
        "plt.grid()\n",
        "plt.show()"
      ],
      "execution_count": null,
      "outputs": [
        {
          "output_type": "display_data",
          "data": {
            "image/png": "[encoded data removed]",
            "text/plain": [
              "<Figure size 432x288 with 1 Axes>"
            ]
          },
          "metadata": {
            "tags": [],
            "needs_background": "light"
          }
        }
      ]
    },
    {
      "cell_type": "code",
      "metadata": {
        "id": "TPwQKFbawcGi",
        "colab": {
          "base_uri": "https://localhost:8080/"
        },
        "outputId": "8d177c04-6982-49dd-a152-c53cac5a5e03"
      },
      "source": [
        "print(np.mean(frequency))"
      ],
      "execution_count": null,
      "outputs": [
        {
          "output_type": "stream",
          "text": [
            "49.504950495049506\n"
          ],
          "name": "stdout"
        }
      ]
    },
    {
      "cell_type": "code",
      "metadata": {
        "id": "WjRlT_YkxA4k",
        "colab": {
          "base_uri": "https://localhost:8080/"
        },
        "outputId": "5e98ee3e-f40d-4400-d91f-1f697f45463d"
      },
      "source": [
        "print(np.mean(samples))"
      ],
      "execution_count": null,
      "outputs": [
        {
          "output_type": "stream",
          "text": [
            "0.4981913342386484\n"
          ],
          "name": "stdout"
        }
      ]
    },
    {
      "cell_type": "code",
      "metadata": {
        "id": "c4r_WJ_lRA-v",
        "colab": {
          "base_uri": "https://localhost:8080/"
        },
        "outputId": "bf6c3137-6454-4736-92b3-c9c400d6a9bf"
      },
      "source": [
        "print(np.std(samples)**2)"
      ],
      "execution_count": null,
      "outputs": [
        {
          "output_type": "stream",
          "text": [
            "0.08523751382883181\n"
          ],
          "name": "stdout"
        }
      ]
    },
    {
      "cell_type": "code",
      "metadata": {
        "id": "YobKM3XsREBo"
      },
      "source": [
        ""
      ],
      "execution_count": null,
      "outputs": []
    }
  ]
}